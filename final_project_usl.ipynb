{
 "cells": [
  {
   "cell_type": "markdown",
   "id": "31df6d34-f60a-4e82-a31d-3403b7151a41",
   "metadata": {},
   "source": [
    "# CSCA 5632 Final Project - Breast Cancer Type Classification from Gene Expression Data"
   ]
  },
  {
   "cell_type": "markdown",
   "id": "2da1e542-59b4-4611-a13c-35e3715d00c6",
   "metadata": {},
   "source": [
    "#### This dataset contains the expression levels of 54,676 genes related to breast cancer. The set includes data for 5 different types of breast cancer plus healthy tissue. The data was downloaded from Kaggle (https://www.kaggle.com/datasets/brunogrisci/breast-cancer-gene-expression-cumida) where it was uploaded by CUMida (https://sbcb.inf.ufrgs.br/cumida). The data references two scientific papers, ([https://doi.org/10.1089/cmb.2018.0238] and [https://doi.org/10.1016/j.jbi.2018.11.013]). This dataset was formed from 78 individual microarray datasets to create one large dataset. The goal of this project will be to classify the data into the breast cancer types using the levels of gene expression as features. Though the data contains labels, my approach will be to use unsupervised learning methods to group the data, using the labels for measuring model accuracy only."
   ]
  },
  {
   "cell_type": "code",
   "execution_count": 78,
   "id": "f3bd7589-084f-4de7-827d-790cdc87242a",
   "metadata": {},
   "outputs": [],
   "source": [
    "import pandas as pd\n",
    "import numpy as np\n",
    "import seaborn as sns\n",
    "import matplotlib.pyplot as plt\n",
    "from sklearn.decomposition import NMF\n",
    "from sklearn.metrics import accuracy_score, root_mean_squared_error, confusion_matrix\n",
    "from sklearn.cluster import AgglomerativeClustering, KMeans\n",
    "from sklearn.svm import LinearSVC\n",
    "from sklearn.model_selection import train_test_split"
   ]
  },
  {
   "cell_type": "code",
   "execution_count": 23,
   "id": "12f422cc-5631-4983-a558-bbd35f556455",
   "metadata": {},
   "outputs": [],
   "source": [
    "df = pd.read_csv('Breast_GSE45827.csv')"
   ]
  },
  {
   "cell_type": "markdown",
   "id": "c3a4bbd9-6be6-4290-b57c-14024e1c6dc1",
   "metadata": {},
   "source": [
    "## EDA and Data Visualization"
   ]
  },
  {
   "cell_type": "markdown",
   "id": "35b2d07b-f23c-46a5-b8b6-8cad8c85ec8f",
   "metadata": {},
   "source": [
    "#### To start, we will take a look at the data "
   ]
  },
  {
   "cell_type": "code",
   "execution_count": 36,
   "id": "18351b5f-8135-4501-b184-6ed75a8a2ae1",
   "metadata": {},
   "outputs": [
    {
     "name": "stdout",
     "output_type": "stream",
     "text": [
      "<class 'pandas.core.frame.DataFrame'>\n",
      "RangeIndex: 151 entries, 0 to 150\n",
      "Columns: 54677 entries, samples to AFFX-TrpnX-M_at\n",
      "dtypes: float64(54675), int64(1), object(1)\n",
      "memory usage: 63.0+ MB\n",
      "None\n",
      "   samples   type  1007_s_at   1053_at    117_at    121_at  1255_g_at  \\\n",
      "0       84  basal   9.850040  8.097927  6.424728  7.353027   3.029122   \n",
      "1       85  basal   9.861357  8.212222  7.062593  7.685578   3.149468   \n",
      "2       87  basal  10.103478  8.936137  5.735970  7.687822   3.125931   \n",
      "3       90  basal   9.756875  7.357148  6.479183  6.986624   3.181638   \n",
      "4       91  basal   9.408330  7.746404  6.693980  7.333426   3.169923   \n",
      "\n",
      "    1294_at   1316_at   1320_at  ...  AFFX-r2-Ec-bioD-3_at  \\\n",
      "0  6.880079  4.963740  4.408328  ...             12.229711   \n",
      "1  7.542283  5.129607  4.584418  ...             12.178531   \n",
      "2  6.562369  4.813449  4.425195  ...             12.125108   \n",
      "3  7.802344  5.490982  4.567956  ...             12.111235   \n",
      "4  7.610457  5.372469  4.424426  ...             12.173642   \n",
      "\n",
      "   AFFX-r2-Ec-bioD-5_at  AFFX-r2-P1-cre-3_at  AFFX-r2-P1-cre-5_at  \\\n",
      "0             11.852955            13.658701            13.477698   \n",
      "1             11.809408            13.750086            13.470146   \n",
      "2             11.725766            13.621732            13.295080   \n",
      "3             11.719215            13.743108            13.508861   \n",
      "4             11.861296            13.797774            13.542206   \n",
      "\n",
      "   AFFX-ThrX-3_at  AFFX-ThrX-5_at  AFFX-ThrX-M_at  AFFX-TrpnX-3_at  \\\n",
      "0        6.265781        5.016196        4.901594         2.966657   \n",
      "1        6.771853        5.291005        5.405839         2.934763   \n",
      "2        6.346952        5.171403        5.184286         2.847684   \n",
      "3        6.610284        5.193356        5.086569         3.031602   \n",
      "4        6.414354        5.040202        5.235318         2.956232   \n",
      "\n",
      "   AFFX-TrpnX-5_at  AFFX-TrpnX-M_at  \n",
      "0         3.508495         3.301999  \n",
      "1         3.687666         3.064299  \n",
      "2         3.550597         3.158535  \n",
      "3         3.524981         3.272665  \n",
      "4         3.445501         3.193947  \n",
      "\n",
      "[5 rows x 54677 columns]\n",
      "samples            0\n",
      "type               0\n",
      "1007_s_at          0\n",
      "1053_at            0\n",
      "117_at             0\n",
      "                  ..\n",
      "AFFX-ThrX-5_at     0\n",
      "AFFX-ThrX-M_at     0\n",
      "AFFX-TrpnX-3_at    0\n",
      "AFFX-TrpnX-5_at    0\n",
      "AFFX-TrpnX-M_at    0\n",
      "Length: 54677, dtype: int64\n"
     ]
    }
   ],
   "source": [
    "print(df.info())\n",
    "print(df.head(5))\n",
    "print(df.isna().sum())"
   ]
  },
  {
   "cell_type": "markdown",
   "id": "7b19d888-7957-43ce-a1d2-5ce34ffddef3",
   "metadata": {},
   "source": [
    "#### This dataset only has 151 entries, which is very small compared to the number of features."
   ]
  },
  {
   "cell_type": "markdown",
   "id": "1882052f-2562-44b4-baee-439c016b8c90",
   "metadata": {},
   "source": [
    "#### The sum of null values shows that there are no empty entries. The expression levels are already scaled according to the Kaggle write-up of the data. Because of this, no data transformation is necessary."
   ]
  },
  {
   "cell_type": "markdown",
   "id": "8a88e97f-0830-463a-bbfd-66cb7b70ae29",
   "metadata": {},
   "source": [
    "#### Visualize data distribution"
   ]
  },
  {
   "cell_type": "code",
   "execution_count": 25,
   "id": "f2b18844-c5c8-4e13-ac77-e157f4cf466b",
   "metadata": {},
   "outputs": [
    {
     "data": {
      "text/plain": [
       "Text(0.5, 1.0, 'Number of Instances of Each Category')"
      ]
     },
     "execution_count": 25,
     "metadata": {},
     "output_type": "execute_result"
    },
    {
     "data": {
      "image/png": "[encoded data removed]",
      "text/plain": [
       "<Figure size 640x480 with 1 Axes>"
      ]
     },
     "metadata": {},
     "output_type": "display_data"
    }
   ],
   "source": [
    "ax = sns.countplot(x = 'type', data = df)\n",
    "ax.set_ylabel('Count')\n",
    "ax.set_title('Number of Instances of Each Category')"
   ]
  },
  {
   "cell_type": "markdown",
   "id": "dce7e9b7-0925-445f-9fe4-c54548ee18e3",
   "metadata": {},
   "source": [
    "#### There are a 5 cancer types in this data set and one group of normal cells. The normal group is a much smaller group than the 5 cancer types, and the groups are not very evenly distributed. This could impact model accuracy.\n",
    "\n",
    "#### Visualize distribution of select features"
   ]
  },
  {
   "cell_type": "code",
   "execution_count": 38,
   "id": "a8602578-0519-47b9-b6b6-53cf7c6607e2",
   "metadata": {},
   "outputs": [
    {
     "name": "stderr",
     "output_type": "stream",
     "text": [
      "/opt/anaconda3/lib/python3.11/site-packages/seaborn/_oldcore.py:1119: FutureWarning: use_inf_as_na option is deprecated and will be removed in a future version. Convert inf values to NaN before operating instead.\n",
      "  with pd.option_context('mode.use_inf_as_na', True):\n",
      "/opt/anaconda3/lib/python3.11/site-packages/seaborn/_oldcore.py:1119: FutureWarning: use_inf_as_na option is deprecated and will be removed in a future version. Convert inf values to NaN before operating instead.\n",
      "  with pd.option_context('mode.use_inf_as_na', True):\n",
      "/opt/anaconda3/lib/python3.11/site-packages/seaborn/_oldcore.py:1119: FutureWarning: use_inf_as_na option is deprecated and will be removed in a future version. Convert inf values to NaN before operating instead.\n",
      "  with pd.option_context('mode.use_inf_as_na', True):\n"
     ]
    },
    {
     "data": {
      "text/plain": [
       "Text(0, 0.5, 'Number of Cells at Expression Level')"
      ]
     },
     "execution_count": 38,
     "metadata": {},
     "output_type": "execute_result"
    },
    {
     "data": {
      "image/png": "[encoded data removed]",
      "text/plain": [
       "<Figure size 640x480 with 1 Axes>"
      ]
     },
     "metadata": {},
     "output_type": "display_data"
    }
   ],
   "source": [
    "sns.histplot(data = df, x = '1053_at')\n",
    "sns.histplot(data = df, x = 'AFFX-ThrX-5_at')\n",
    "sns.histplot(data = df, x = '1320_at')\n",
    "plt.title('Histogram of Gene Expression')\n",
    "plt.xlabel('Gene Expression Level')\n",
    "plt.ylabel('Number of Cells at Expression Level')"
   ]
  },
  {
   "cell_type": "markdown",
   "id": "1df80b78-26e3-4138-b7fc-15ddc06a6b31",
   "metadata": {},
   "source": [
    "#### The distributions of expression levels for these 3 genes is pretty varied. They are all different shapes and cover a different range. \n",
    "#### Make histograms of means, mins, and maxs of each feature to show distribution and check for outliers."
   ]
  },
  {
   "cell_type": "code",
   "execution_count": 66,
   "id": "aada4454-4de4-4f45-b005-01adfba53b26",
   "metadata": {},
   "outputs": [
    {
     "data": {
      "image/png": "[encoded data removed]",
      "text/plain": [
       "<Figure size 1500x500 with 3 Axes>"
      ]
     },
     "metadata": {},
     "output_type": "display_data"
    }
   ],
   "source": [
    "means = df.mean()\n",
    "maxes = df.max()\n",
    "mins = df.min()\n",
    "\n",
    "fig, axs = plt.subplots(nrows=1, ncols=3)\n",
    "axs[0].hist(means, stacked = True)\n",
    "axs[0].set_title('mean')\n",
    "axs[1].hist(maxes, stacked = True)\n",
    "axs[1].set_title('max')\n",
    "axs[2].hist(mins, stacked = True)\n",
    "axs[2].set_title('min')\n",
    "fig.set_figheight(5)\n",
    "fig.set_figwidth(15)\n",
    "plt.subplots_adjust(wspace = 0.5, hspace =0.3)"
   ]
  },
  {
   "cell_type": "markdown",
   "id": "3ebeb759-62a4-4980-a8c1-6a97400c3b9a",
   "metadata": {},
   "source": [
    "#### It looks like the dataset may have some outliers since the distributions are skewed slightly."
   ]
  },
  {
   "cell_type": "markdown",
   "id": "432be745-b724-452e-bfab-6bb02b734bdc",
   "metadata": {},
   "source": [
    "#### Next, we will clean the data by separating out the 'type' column to use as labels and drop that column along with the samples column since it will not be useful for our analysis. "
   ]
  },
  {
   "cell_type": "code",
   "execution_count": 42,
   "id": "c783f694-031d-4e5c-a90b-9649279abe45",
   "metadata": {},
   "outputs": [],
   "source": [
    "labels = df['type']\n",
    "df = df.drop(columns = ['samples', 'type'])"
   ]
  },
  {
   "cell_type": "code",
   "execution_count": 43,
   "id": "ae121c5d-69ea-406a-af78-cedd4fb1a6b9",
   "metadata": {},
   "outputs": [
    {
     "name": "stdout",
     "output_type": "stream",
     "text": [
      "   1007_s_at   1053_at    117_at    121_at  1255_g_at   1294_at   1316_at  \\\n",
      "0   9.850040  8.097927  6.424728  7.353027   3.029122  6.880079  4.963740   \n",
      "1   9.861357  8.212222  7.062593  7.685578   3.149468  7.542283  5.129607   \n",
      "2  10.103478  8.936137  5.735970  7.687822   3.125931  6.562369  4.813449   \n",
      "3   9.756875  7.357148  6.479183  6.986624   3.181638  7.802344  5.490982   \n",
      "4   9.408330  7.746404  6.693980  7.333426   3.169923  7.610457  5.372469   \n",
      "\n",
      "    1320_at  1405_i_at   1431_at  ...  AFFX-r2-Ec-bioD-3_at  \\\n",
      "0  4.408328   8.870780  3.278896  ...             12.229711   \n",
      "1  4.584418   7.767646  3.589636  ...             12.178531   \n",
      "2  4.425195   9.417956  3.552253  ...             12.125108   \n",
      "3  4.567956   9.022345  3.312473  ...             12.111235   \n",
      "4  4.424426   9.400056  3.368243  ...             12.173642   \n",
      "\n",
      "   AFFX-r2-Ec-bioD-5_at  AFFX-r2-P1-cre-3_at  AFFX-r2-P1-cre-5_at  \\\n",
      "0             11.852955            13.658701            13.477698   \n",
      "1             11.809408            13.750086            13.470146   \n",
      "2             11.725766            13.621732            13.295080   \n",
      "3             11.719215            13.743108            13.508861   \n",
      "4             11.861296            13.797774            13.542206   \n",
      "\n",
      "   AFFX-ThrX-3_at  AFFX-ThrX-5_at  AFFX-ThrX-M_at  AFFX-TrpnX-3_at  \\\n",
      "0        6.265781        5.016196        4.901594         2.966657   \n",
      "1        6.771853        5.291005        5.405839         2.934763   \n",
      "2        6.346952        5.171403        5.184286         2.847684   \n",
      "3        6.610284        5.193356        5.086569         3.031602   \n",
      "4        6.414354        5.040202        5.235318         2.956232   \n",
      "\n",
      "   AFFX-TrpnX-5_at  AFFX-TrpnX-M_at  \n",
      "0         3.508495         3.301999  \n",
      "1         3.687666         3.064299  \n",
      "2         3.550597         3.158535  \n",
      "3         3.524981         3.272665  \n",
      "4         3.445501         3.193947  \n",
      "\n",
      "[5 rows x 54675 columns]\n",
      "0    basal\n",
      "1    basal\n",
      "2    basal\n",
      "3    basal\n",
      "4    basal\n",
      "Name: type, dtype: object\n"
     ]
    }
   ],
   "source": [
    "print(df.head())\n",
    "print(labels.head())"
   ]
  },
  {
   "cell_type": "markdown",
   "id": "55f9dd23-cd9c-495d-ba83-a3dcde783151",
   "metadata": {},
   "source": [
    "#### Next, will draw a heatmap to determine correlations between features. Because there are so many features, we will only draw the heatmap for the first 50 to get a feel for how correlated the data may be."
   ]
  },
  {
   "cell_type": "code",
   "execution_count": 48,
   "id": "0e5eeca1-f158-4330-9a9f-185a1a794d88",
   "metadata": {},
   "outputs": [
    {
     "data": {
      "text/plain": [
       "<Axes: >"
      ]
     },
     "execution_count": 48,
     "metadata": {},
     "output_type": "execute_result"
    },
    {
     "data": {
      "image/png": "[encoded data removed]",
      "text/plain": [
       "<Figure size 640x480 with 2 Axes>"
      ]
     },
     "metadata": {},
     "output_type": "display_data"
    }
   ],
   "source": [
    "corr_data = df.iloc[:,: 50]\n",
    "corr = np.corrcoef(corr_data, rowvar = False)\n",
    "sns.heatmap(corr)"
   ]
  },
  {
   "cell_type": "markdown",
   "id": "cf125b82-399e-4d82-9c72-d37c60085e8d",
   "metadata": {},
   "source": [
    "#### The heatmap shows that very few features are strongly correlated. Features 35 and 34 have the strongest correlation, but most features are not very strongly correlated."
   ]
  },
  {
   "cell_type": "markdown",
   "id": "4633254c-e14e-49c8-8105-dc5675154a0f",
   "metadata": {},
   "source": [
    "## Build Model"
   ]
  },
  {
   "cell_type": "markdown",
   "id": "2de56778-b8a0-415c-8256-797c74378db8",
   "metadata": {},
   "source": [
    "#### Will start with a NMF matrix factorization model. I think this is the best unsupervised learning model for this data because it is a good way to classify data by categorizing it into the different groups, and the data is non-negative. I will also define a function for labeling the data for the model."
   ]
  },
  {
   "cell_type": "code",
   "execution_count": 50,
   "id": "05ecd80a-2c34-42eb-b891-4b133872cda7",
   "metadata": {},
   "outputs": [],
   "source": [
    "def predict_from_nmf(model, train_data, train_labels, test_data):\n",
    "    #returns predicted labels\n",
    "    W = model.fit_transform(train_data)\n",
    "    H = model.components_\n",
    "    categories = np.unique(train_labels)\n",
    "    cat_to_comp = {}\n",
    "\n",
    "    for cat in categories:\n",
    "        avg = W[train_labels == cat].mean(axis=0)\n",
    "        dominant_comps = np.argsort(avg)[::-1]\n",
    "        for arg in dominant_comps:\n",
    "            if arg not in cat_to_comp.values():\n",
    "                dc = arg\n",
    "                break\n",
    "        cat_to_comp[cat] = dc\n",
    "    \n",
    "    W_test = model.transform(test_data)\n",
    "\n",
    "    y_pred = []\n",
    "    for row in W_test:\n",
    "        dominant_comp = np.argmax(row)\n",
    "        cat = [category for category,comp in cat_to_comp.items() if dominant_comp == comp][0]\n",
    "        y_pred.append(cat)\n",
    "\n",
    "    return y_pred"
   ]
  },
  {
   "cell_type": "code",
   "execution_count": 141,
   "id": "64ffe148-8e72-4677-be35-7ff5fab485b6",
   "metadata": {},
   "outputs": [
    {
     "name": "stdout",
     "output_type": "stream",
     "text": [
      "accuracy of base NMF model: 0.17391304347826086\n"
     ]
    },
    {
     "data": {
      "text/plain": [
       "array([[ 8,  0,  0,  0,  0,  0],\n",
       "       [13,  0,  0,  0,  0,  0],\n",
       "       [ 0,  7,  0,  0,  0,  0],\n",
       "       [ 0,  5,  0,  0,  0,  0],\n",
       "       [ 2,  8,  0,  0,  0,  0],\n",
       "       [ 0,  3,  0,  0,  0,  0]])"
      ]
     },
     "execution_count": 141,
     "metadata": {},
     "output_type": "execute_result"
    }
   ],
   "source": [
    "base_nmf = NMF(n_components = 6, max_iter = 400)\n",
    "X_train, X_test, y_train, y_test = train_test_split(df, labels, train_size = 0.7)\n",
    "\n",
    "y_pred = predict_from_nmf(base_nmf, X_train, y_train, X_test)\n",
    "acc_bnmf = accuracy_score(y_test,y_pred)\n",
    "print('accuracy of base NMF model:', acc_bnmf)\n",
    "confusion_matrix(y_test, y_pred)"
   ]
  },
  {
   "cell_type": "markdown",
   "id": "e1d6c888-f435-481f-b2fc-3cb547a45634",
   "metadata": {},
   "source": [
    "#### This model is not very accurate! I will try some hyperparameter tuning to try to increase accuracy."
   ]
  },
  {
   "cell_type": "code",
   "execution_count": 157,
   "id": "c2f7f583-1412-4aa5-a927-641abb7c4a3f",
   "metadata": {},
   "outputs": [
    {
     "name": "stdout",
     "output_type": "stream",
     "text": [
      "accuracy of randomized NMF model: 0.6304347826086957\n"
     ]
    },
    {
     "data": {
      "text/plain": [
       "array([[6, 0, 0, 1, 1, 0],\n",
       "       [6, 3, 0, 1, 0, 3],\n",
       "       [0, 0, 7, 0, 0, 0],\n",
       "       [0, 0, 0, 5, 0, 0],\n",
       "       [1, 0, 0, 1, 8, 0],\n",
       "       [0, 0, 0, 3, 0, 0]])"
      ]
     },
     "execution_count": 157,
     "metadata": {},
     "output_type": "execute_result"
    }
   ],
   "source": [
    "rand_nmf = NMF(n_components = 6, max_iter = 2000, init = 'random', random_state = 3)\n",
    "y_pred = predict_from_nmf(rand_nmf, X_train, y_train, X_test)\n",
    "acc_rnmf = accuracy_score(y_test,y_pred)\n",
    "print('accuracy of randomized NMF model:', acc_rnmf)\n",
    "confusion_matrix(y_test, y_pred)"
   ]
  },
  {
   "cell_type": "code",
   "execution_count": 159,
   "id": "3326753a-3d03-42a5-8827-400046f80167",
   "metadata": {},
   "outputs": [
    {
     "name": "stderr",
     "output_type": "stream",
     "text": [
      "/opt/anaconda3/lib/python3.11/site-packages/sklearn/decomposition/_nmf.py:1759: ConvergenceWarning: Maximum number of iterations 2000 reached. Increase it to improve convergence.\n",
      "  warnings.warn(\n",
      "/opt/anaconda3/lib/python3.11/site-packages/sklearn/decomposition/_nmf.py:1759: ConvergenceWarning: Maximum number of iterations 2000 reached. Increase it to improve convergence.\n",
      "  warnings.warn(\n",
      "/opt/anaconda3/lib/python3.11/site-packages/sklearn/decomposition/_nmf.py:1759: ConvergenceWarning: Maximum number of iterations 2000 reached. Increase it to improve convergence.\n",
      "  warnings.warn(\n",
      "/opt/anaconda3/lib/python3.11/site-packages/sklearn/decomposition/_nmf.py:1759: ConvergenceWarning: Maximum number of iterations 2000 reached. Increase it to improve convergence.\n",
      "  warnings.warn(\n",
      "/opt/anaconda3/lib/python3.11/site-packages/sklearn/decomposition/_nmf.py:1759: ConvergenceWarning: Maximum number of iterations 2000 reached. Increase it to improve convergence.\n",
      "  warnings.warn(\n",
      "/opt/anaconda3/lib/python3.11/site-packages/sklearn/decomposition/_nmf.py:1759: ConvergenceWarning: Maximum number of iterations 2000 reached. Increase it to improve convergence.\n",
      "  warnings.warn(\n",
      "/opt/anaconda3/lib/python3.11/site-packages/sklearn/decomposition/_nmf.py:1759: ConvergenceWarning: Maximum number of iterations 2000 reached. Increase it to improve convergence.\n",
      "  warnings.warn(\n",
      "/opt/anaconda3/lib/python3.11/site-packages/sklearn/decomposition/_nmf.py:1759: ConvergenceWarning: Maximum number of iterations 2000 reached. Increase it to improve convergence.\n",
      "  warnings.warn(\n",
      "/opt/anaconda3/lib/python3.11/site-packages/sklearn/decomposition/_nmf.py:1759: ConvergenceWarning: Maximum number of iterations 2000 reached. Increase it to improve convergence.\n",
      "  warnings.warn(\n",
      "/opt/anaconda3/lib/python3.11/site-packages/sklearn/decomposition/_nmf.py:1759: ConvergenceWarning: Maximum number of iterations 2000 reached. Increase it to improve convergence.\n",
      "  warnings.warn(\n",
      "/opt/anaconda3/lib/python3.11/site-packages/sklearn/decomposition/_nmf.py:1759: ConvergenceWarning: Maximum number of iterations 2000 reached. Increase it to improve convergence.\n",
      "  warnings.warn(\n",
      "/opt/anaconda3/lib/python3.11/site-packages/sklearn/decomposition/_nmf.py:1759: ConvergenceWarning: Maximum number of iterations 2000 reached. Increase it to improve convergence.\n",
      "  warnings.warn(\n",
      "/opt/anaconda3/lib/python3.11/site-packages/sklearn/decomposition/_nmf.py:1759: ConvergenceWarning: Maximum number of iterations 2000 reached. Increase it to improve convergence.\n",
      "  warnings.warn(\n",
      "/opt/anaconda3/lib/python3.11/site-packages/sklearn/decomposition/_nmf.py:1759: ConvergenceWarning: Maximum number of iterations 2000 reached. Increase it to improve convergence.\n",
      "  warnings.warn(\n",
      "/opt/anaconda3/lib/python3.11/site-packages/sklearn/decomposition/_nmf.py:1759: ConvergenceWarning: Maximum number of iterations 2000 reached. Increase it to improve convergence.\n",
      "  warnings.warn(\n",
      "/opt/anaconda3/lib/python3.11/site-packages/sklearn/decomposition/_nmf.py:1759: ConvergenceWarning: Maximum number of iterations 2000 reached. Increase it to improve convergence.\n",
      "  warnings.warn(\n",
      "/opt/anaconda3/lib/python3.11/site-packages/sklearn/decomposition/_nmf.py:1759: ConvergenceWarning: Maximum number of iterations 2000 reached. Increase it to improve convergence.\n",
      "  warnings.warn(\n",
      "/opt/anaconda3/lib/python3.11/site-packages/sklearn/decomposition/_nmf.py:1759: ConvergenceWarning: Maximum number of iterations 2000 reached. Increase it to improve convergence.\n",
      "  warnings.warn(\n"
     ]
    },
    {
     "name": "stdout",
     "output_type": "stream",
     "text": [
      "best accuracy: 0.6304347826086957\n",
      "best alpha_h: 0\n",
      "best alpha_w: 0\n"
     ]
    }
   ],
   "source": [
    "H_alpha = range(0, 10, 1)\n",
    "W_alpha = range(0, 10, 1)\n",
    "accs = []\n",
    "best_acc = 0\n",
    "best_h = None\n",
    "best_w = None\n",
    "\n",
    "for h in H_alpha:\n",
    "    for w in W_alpha:\n",
    "        nmf = NMF(n_components = 6, max_iter = 2000, init = 'random', random_state = 3, alpha_H = h, alpha_W = w)\n",
    "        y_pred = predict_from_nmf(nmf, X_train, y_train, X_test)\n",
    "        acc = accuracy_score(y_test,y_pred)\n",
    "        if acc > best_acc:\n",
    "            best_acc = acc\n",
    "            best_h = h\n",
    "            best_w = w\n",
    "\n",
    "print('best accuracy:', best_acc)\n",
    "print('best alpha_h:', best_h)\n",
    "print('best alpha_w:', best_w)"
   ]
  },
  {
   "cell_type": "markdown",
   "id": "44abcdb1-330d-47be-abfe-2d33ef9bba11",
   "metadata": {},
   "source": [
    "#### Can also try to improve accuracy by using a larger cut of training data. Will try the best model from the hyperparameter tuning step to test this model."
   ]
  },
  {
   "cell_type": "code",
   "execution_count": 160,
   "id": "f493c1fc-40f7-4865-afb4-c4b9fe363486",
   "metadata": {},
   "outputs": [
    {
     "name": "stderr",
     "output_type": "stream",
     "text": [
      "/opt/anaconda3/lib/python3.11/site-packages/sklearn/decomposition/_nmf.py:1759: ConvergenceWarning: Maximum number of iterations 2000 reached. Increase it to improve convergence.\n",
      "  warnings.warn(\n"
     ]
    },
    {
     "name": "stdout",
     "output_type": "stream",
     "text": [
      "accuracy of tuned NMF model: 0.6774193548387096\n"
     ]
    },
    {
     "data": {
      "text/plain": [
       "array([[7, 1, 0, 0, 2, 0],\n",
       "       [1, 2, 0, 0, 0, 2],\n",
       "       [0, 0, 3, 0, 0, 0],\n",
       "       [0, 0, 0, 6, 0, 0],\n",
       "       [1, 1, 0, 0, 3, 0],\n",
       "       [0, 0, 0, 2, 0, 0]])"
      ]
     },
     "execution_count": 160,
     "metadata": {},
     "output_type": "execute_result"
    }
   ],
   "source": [
    "X_train, X_test, y_train, y_test = train_test_split(df, labels, train_size = 0.8)\n",
    "nmf = NMF(n_components = 6, max_iter = 2000, init = 'random', random_state = 1, alpha_H = 0, alpha_W = 0)\n",
    "y_pred = predict_from_nmf(nmf, X_train, y_train, X_test)\n",
    "acc_tnmf = accuracy_score(y_test,y_pred)\n",
    "print('accuracy of tuned NMF model:', acc_tnmf)\n",
    "confusion_matrix(y_test,y_pred)"
   ]
  },
  {
   "cell_type": "markdown",
   "id": "31ef767a-3459-4913-9e76-a29dcf443a35",
   "metadata": {},
   "source": [
    "#### Not too bad of an accuracy score after tuning, but it still could be better. A different model might work better for this data. Will try an agglomerative clustering method and see if it produces better results. Agglomerative clustering does not usually work well with high dimensional data so it likely will not produce better results, but worth a shot."
   ]
  },
  {
   "cell_type": "code",
   "execution_count": 131,
   "id": "1f1853d6-0366-413c-b9c6-889232bbab73",
   "metadata": {},
   "outputs": [
    {
     "data": {
      "text/html": [
       "<style>#sk-container-id-6 {\n",
       "  /* Definition of color scheme common for light and dark mode */\n",
       "  --sklearn-color-text: black;\n",
       "  --sklearn-color-line: gray;\n",
       "  /* Definition of color scheme for unfitted estimators */\n",
       "  --sklearn-color-unfitted-level-0: #fff5e6;\n",
       "  --sklearn-color-unfitted-level-1: #f6e4d2;\n",
       "  --sklearn-color-unfitted-level-2: #ffe0b3;\n",
       "  --sklearn-color-unfitted-level-3: chocolate;\n",
       "  /* Definition of color scheme for fitted estimators */\n",
       "  --sklearn-color-fitted-level-0: #f0f8ff;\n",
       "  --sklearn-color-fitted-level-1: #d4ebff;\n",
       "  --sklearn-color-fitted-level-2: #b3dbfd;\n",
       "  --sklearn-color-fitted-level-3: cornflowerblue;\n",
       "\n",
       "  /* Specific color for light theme */\n",
       "  --sklearn-color-text-on-default-background: var(--sg-text-color, var(--theme-code-foreground, var(--jp-content-font-color1, black)));\n",
       "  --sklearn-color-background: var(--sg-background-color, var(--theme-background, var(--jp-layout-color0, white)));\n",
       "  --sklearn-color-border-box: var(--sg-text-color, var(--theme-code-foreground, var(--jp-content-font-color1, black)));\n",
       "  --sklearn-color-icon: #696969;\n",
       "\n",
       "  @media (prefers-color-scheme: dark) {\n",
       "    /* Redefinition of color scheme for dark theme */\n",
       "    --sklearn-color-text-on-default-background: var(--sg-text-color, var(--theme-code-foreground, var(--jp-content-font-color1, white)));\n",
       "    --sklearn-color-background: var(--sg-background-color, var(--theme-background, var(--jp-layout-color0, #111)));\n",
       "    --sklearn-color-border-box: var(--sg-text-color, var(--theme-code-foreground, var(--jp-content-font-color1, white)));\n",
       "    --sklearn-color-icon: #878787;\n",
       "  }\n",
       "}\n",
       "\n",
       "#sk-container-id-6 {\n",
       "  color: var(--sklearn-color-text);\n",
       "}\n",
       "\n",
       "#sk-container-id-6 pre {\n",
       "  padding: 0;\n",
       "}\n",
       "\n",
       "#sk-container-id-6 input.sk-hidden--visually {\n",
       "  border: 0;\n",
       "  clip: rect(1px 1px 1px 1px);\n",
       "  clip: rect(1px, 1px, 1px, 1px);\n",
       "  height: 1px;\n",
       "  margin: -1px;\n",
       "  overflow: hidden;\n",
       "  padding: 0;\n",
       "  position: absolute;\n",
       "  width: 1px;\n",
       "}\n",
       "\n",
       "#sk-container-id-6 div.sk-dashed-wrapped {\n",
       "  border: 1px dashed var(--sklearn-color-line);\n",
       "  margin: 0 0.4em 0.5em 0.4em;\n",
       "  box-sizing: border-box;\n",
       "  padding-bottom: 0.4em;\n",
       "  background-color: var(--sklearn-color-background);\n",
       "}\n",
       "\n",
       "#sk-container-id-6 div.sk-container {\n",
       "  /* jupyter's `normalize.less` sets `[hidden] { display: none; }`\n",
       "     but bootstrap.min.css set `[hidden] { display: none !important; }`\n",
       "     so we also need the `!important` here to be able to override the\n",
       "     default hidden behavior on the sphinx rendered scikit-learn.org.\n",
       "     See: https://github.com/scikit-learn/scikit-learn/issues/21755 */\n",
       "  display: inline-block !important;\n",
       "  position: relative;\n",
       "}\n",
       "\n",
       "#sk-container-id-6 div.sk-text-repr-fallback {\n",
       "  display: none;\n",
       "}\n",
       "\n",
       "div.sk-parallel-item,\n",
       "div.sk-serial,\n",
       "div.sk-item {\n",
       "  /* draw centered vertical line to link estimators */\n",
       "  background-image: linear-gradient(var(--sklearn-color-text-on-default-background), var(--sklearn-color-text-on-default-background));\n",
       "  background-size: 2px 100%;\n",
       "  background-repeat: no-repeat;\n",
       "  background-position: center center;\n",
       "}\n",
       "\n",
       "/* Parallel-specific style estimator block */\n",
       "\n",
       "#sk-container-id-6 div.sk-parallel-item::after {\n",
       "  content: \"\";\n",
       "  width: 100%;\n",
       "  border-bottom: 2px solid var(--sklearn-color-text-on-default-background);\n",
       "  flex-grow: 1;\n",
       "}\n",
       "\n",
       "#sk-container-id-6 div.sk-parallel {\n",
       "  display: flex;\n",
       "  align-items: stretch;\n",
       "  justify-content: center;\n",
       "  background-color: var(--sklearn-color-background);\n",
       "  position: relative;\n",
       "}\n",
       "\n",
       "#sk-container-id-6 div.sk-parallel-item {\n",
       "  display: flex;\n",
       "  flex-direction: column;\n",
       "}\n",
       "\n",
       "#sk-container-id-6 div.sk-parallel-item:first-child::after {\n",
       "  align-self: flex-end;\n",
       "  width: 50%;\n",
       "}\n",
       "\n",
       "#sk-container-id-6 div.sk-parallel-item:last-child::after {\n",
       "  align-self: flex-start;\n",
       "  width: 50%;\n",
       "}\n",
       "\n",
       "#sk-container-id-6 div.sk-parallel-item:only-child::after {\n",
       "  width: 0;\n",
       "}\n",
       "\n",
       "/* Serial-specific style estimator block */\n",
       "\n",
       "#sk-container-id-6 div.sk-serial {\n",
       "  display: flex;\n",
       "  flex-direction: column;\n",
       "  align-items: center;\n",
       "  background-color: var(--sklearn-color-background);\n",
       "  padding-right: 1em;\n",
       "  padding-left: 1em;\n",
       "}\n",
       "\n",
       "\n",
       "/* Toggleable style: style used for estimator/Pipeline/ColumnTransformer box that is\n",
       "clickable and can be expanded/collapsed.\n",
       "- Pipeline and ColumnTransformer use this feature and define the default style\n",
       "- Estimators will overwrite some part of the style using the `sk-estimator` class\n",
       "*/\n",
       "\n",
       "/* Pipeline and ColumnTransformer style (default) */\n",
       "\n",
       "#sk-container-id-6 div.sk-toggleable {\n",
       "  /* Default theme specific background. It is overwritten whether we have a\n",
       "  specific estimator or a Pipeline/ColumnTransformer */\n",
       "  background-color: var(--sklearn-color-background);\n",
       "}\n",
       "\n",
       "/* Toggleable label */\n",
       "#sk-container-id-6 label.sk-toggleable__label {\n",
       "  cursor: pointer;\n",
       "  display: block;\n",
       "  width: 100%;\n",
       "  margin-bottom: 0;\n",
       "  padding: 0.5em;\n",
       "  box-sizing: border-box;\n",
       "  text-align: center;\n",
       "}\n",
       "\n",
       "#sk-container-id-6 label.sk-toggleable__label-arrow:before {\n",
       "  /* Arrow on the left of the label */\n",
       "  content: \"▸\";\n",
       "  float: left;\n",
       "  margin-right: 0.25em;\n",
       "  color: var(--sklearn-color-icon);\n",
       "}\n",
       "\n",
       "#sk-container-id-6 label.sk-toggleable__label-arrow:hover:before {\n",
       "  color: var(--sklearn-color-text);\n",
       "}\n",
       "\n",
       "/* Toggleable content - dropdown */\n",
       "\n",
       "#sk-container-id-6 div.sk-toggleable__content {\n",
       "  max-height: 0;\n",
       "  max-width: 0;\n",
       "  overflow: hidden;\n",
       "  text-align: left;\n",
       "  /* unfitted */\n",
       "  background-color: var(--sklearn-color-unfitted-level-0);\n",
       "}\n",
       "\n",
       "#sk-container-id-6 div.sk-toggleable__content.fitted {\n",
       "  /* fitted */\n",
       "  background-color: var(--sklearn-color-fitted-level-0);\n",
       "}\n",
       "\n",
       "#sk-container-id-6 div.sk-toggleable__content pre {\n",
       "  margin: 0.2em;\n",
       "  border-radius: 0.25em;\n",
       "  color: var(--sklearn-color-text);\n",
       "  /* unfitted */\n",
       "  background-color: var(--sklearn-color-unfitted-level-0);\n",
       "}\n",
       "\n",
       "#sk-container-id-6 div.sk-toggleable__content.fitted pre {\n",
       "  /* unfitted */\n",
       "  background-color: var(--sklearn-color-fitted-level-0);\n",
       "}\n",
       "\n",
       "#sk-container-id-6 input.sk-toggleable__control:checked~div.sk-toggleable__content {\n",
       "  /* Expand drop-down */\n",
       "  max-height: 200px;\n",
       "  max-width: 100%;\n",
       "  overflow: auto;\n",
       "}\n",
       "\n",
       "#sk-container-id-6 input.sk-toggleable__control:checked~label.sk-toggleable__label-arrow:before {\n",
       "  content: \"▾\";\n",
       "}\n",
       "\n",
       "/* Pipeline/ColumnTransformer-specific style */\n",
       "\n",
       "#sk-container-id-6 div.sk-label input.sk-toggleable__control:checked~label.sk-toggleable__label {\n",
       "  color: var(--sklearn-color-text);\n",
       "  background-color: var(--sklearn-color-unfitted-level-2);\n",
       "}\n",
       "\n",
       "#sk-container-id-6 div.sk-label.fitted input.sk-toggleable__control:checked~label.sk-toggleable__label {\n",
       "  background-color: var(--sklearn-color-fitted-level-2);\n",
       "}\n",
       "\n",
       "/* Estimator-specific style */\n",
       "\n",
       "/* Colorize estimator box */\n",
       "#sk-container-id-6 div.sk-estimator input.sk-toggleable__control:checked~label.sk-toggleable__label {\n",
       "  /* unfitted */\n",
       "  background-color: var(--sklearn-color-unfitted-level-2);\n",
       "}\n",
       "\n",
       "#sk-container-id-6 div.sk-estimator.fitted input.sk-toggleable__control:checked~label.sk-toggleable__label {\n",
       "  /* fitted */\n",
       "  background-color: var(--sklearn-color-fitted-level-2);\n",
       "}\n",
       "\n",
       "#sk-container-id-6 div.sk-label label.sk-toggleable__label,\n",
       "#sk-container-id-6 div.sk-label label {\n",
       "  /* The background is the default theme color */\n",
       "  color: var(--sklearn-color-text-on-default-background);\n",
       "}\n",
       "\n",
       "/* On hover, darken the color of the background */\n",
       "#sk-container-id-6 div.sk-label:hover label.sk-toggleable__label {\n",
       "  color: var(--sklearn-color-text);\n",
       "  background-color: var(--sklearn-color-unfitted-level-2);\n",
       "}\n",
       "\n",
       "/* Label box, darken color on hover, fitted */\n",
       "#sk-container-id-6 div.sk-label.fitted:hover label.sk-toggleable__label.fitted {\n",
       "  color: var(--sklearn-color-text);\n",
       "  background-color: var(--sklearn-color-fitted-level-2);\n",
       "}\n",
       "\n",
       "/* Estimator label */\n",
       "\n",
       "#sk-container-id-6 div.sk-label label {\n",
       "  font-family: monospace;\n",
       "  font-weight: bold;\n",
       "  display: inline-block;\n",
       "  line-height: 1.2em;\n",
       "}\n",
       "\n",
       "#sk-container-id-6 div.sk-label-container {\n",
       "  text-align: center;\n",
       "}\n",
       "\n",
       "/* Estimator-specific */\n",
       "#sk-container-id-6 div.sk-estimator {\n",
       "  font-family: monospace;\n",
       "  border: 1px dotted var(--sklearn-color-border-box);\n",
       "  border-radius: 0.25em;\n",
       "  box-sizing: border-box;\n",
       "  margin-bottom: 0.5em;\n",
       "  /* unfitted */\n",
       "  background-color: var(--sklearn-color-unfitted-level-0);\n",
       "}\n",
       "\n",
       "#sk-container-id-6 div.sk-estimator.fitted {\n",
       "  /* fitted */\n",
       "  background-color: var(--sklearn-color-fitted-level-0);\n",
       "}\n",
       "\n",
       "/* on hover */\n",
       "#sk-container-id-6 div.sk-estimator:hover {\n",
       "  /* unfitted */\n",
       "  background-color: var(--sklearn-color-unfitted-level-2);\n",
       "}\n",
       "\n",
       "#sk-container-id-6 div.sk-estimator.fitted:hover {\n",
       "  /* fitted */\n",
       "  background-color: var(--sklearn-color-fitted-level-2);\n",
       "}\n",
       "\n",
       "/* Specification for estimator info (e.g. \"i\" and \"?\") */\n",
       "\n",
       "/* Common style for \"i\" and \"?\" */\n",
       "\n",
       ".sk-estimator-doc-link,\n",
       "a:link.sk-estimator-doc-link,\n",
       "a:visited.sk-estimator-doc-link {\n",
       "  float: right;\n",
       "  font-size: smaller;\n",
       "  line-height: 1em;\n",
       "  font-family: monospace;\n",
       "  background-color: var(--sklearn-color-background);\n",
       "  border-radius: 1em;\n",
       "  height: 1em;\n",
       "  width: 1em;\n",
       "  text-decoration: none !important;\n",
       "  margin-left: 1ex;\n",
       "  /* unfitted */\n",
       "  border: var(--sklearn-color-unfitted-level-1) 1pt solid;\n",
       "  color: var(--sklearn-color-unfitted-level-1);\n",
       "}\n",
       "\n",
       ".sk-estimator-doc-link.fitted,\n",
       "a:link.sk-estimator-doc-link.fitted,\n",
       "a:visited.sk-estimator-doc-link.fitted {\n",
       "  /* fitted */\n",
       "  border: var(--sklearn-color-fitted-level-1) 1pt solid;\n",
       "  color: var(--sklearn-color-fitted-level-1);\n",
       "}\n",
       "\n",
       "/* On hover */\n",
       "div.sk-estimator:hover .sk-estimator-doc-link:hover,\n",
       ".sk-estimator-doc-link:hover,\n",
       "div.sk-label-container:hover .sk-estimator-doc-link:hover,\n",
       ".sk-estimator-doc-link:hover {\n",
       "  /* unfitted */\n",
       "  background-color: var(--sklearn-color-unfitted-level-3);\n",
       "  color: var(--sklearn-color-background);\n",
       "  text-decoration: none;\n",
       "}\n",
       "\n",
       "div.sk-estimator.fitted:hover .sk-estimator-doc-link.fitted:hover,\n",
       ".sk-estimator-doc-link.fitted:hover,\n",
       "div.sk-label-container:hover .sk-estimator-doc-link.fitted:hover,\n",
       ".sk-estimator-doc-link.fitted:hover {\n",
       "  /* fitted */\n",
       "  background-color: var(--sklearn-color-fitted-level-3);\n",
       "  color: var(--sklearn-color-background);\n",
       "  text-decoration: none;\n",
       "}\n",
       "\n",
       "/* Span, style for the box shown on hovering the info icon */\n",
       ".sk-estimator-doc-link span {\n",
       "  display: none;\n",
       "  z-index: 9999;\n",
       "  position: relative;\n",
       "  font-weight: normal;\n",
       "  right: .2ex;\n",
       "  padding: .5ex;\n",
       "  margin: .5ex;\n",
       "  width: min-content;\n",
       "  min-width: 20ex;\n",
       "  max-width: 50ex;\n",
       "  color: var(--sklearn-color-text);\n",
       "  box-shadow: 2pt 2pt 4pt #999;\n",
       "  /* unfitted */\n",
       "  background: var(--sklearn-color-unfitted-level-0);\n",
       "  border: .5pt solid var(--sklearn-color-unfitted-level-3);\n",
       "}\n",
       "\n",
       ".sk-estimator-doc-link.fitted span {\n",
       "  /* fitted */\n",
       "  background: var(--sklearn-color-fitted-level-0);\n",
       "  border: var(--sklearn-color-fitted-level-3);\n",
       "}\n",
       "\n",
       ".sk-estimator-doc-link:hover span {\n",
       "  display: block;\n",
       "}\n",
       "\n",
       "/* \"?\"-specific style due to the `<a>` HTML tag */\n",
       "\n",
       "#sk-container-id-6 a.estimator_doc_link {\n",
       "  float: right;\n",
       "  font-size: 1rem;\n",
       "  line-height: 1em;\n",
       "  font-family: monospace;\n",
       "  background-color: var(--sklearn-color-background);\n",
       "  border-radius: 1rem;\n",
       "  height: 1rem;\n",
       "  width: 1rem;\n",
       "  text-decoration: none;\n",
       "  /* unfitted */\n",
       "  color: var(--sklearn-color-unfitted-level-1);\n",
       "  border: var(--sklearn-color-unfitted-level-1) 1pt solid;\n",
       "}\n",
       "\n",
       "#sk-container-id-6 a.estimator_doc_link.fitted {\n",
       "  /* fitted */\n",
       "  border: var(--sklearn-color-fitted-level-1) 1pt solid;\n",
       "  color: var(--sklearn-color-fitted-level-1);\n",
       "}\n",
       "\n",
       "/* On hover */\n",
       "#sk-container-id-6 a.estimator_doc_link:hover {\n",
       "  /* unfitted */\n",
       "  background-color: var(--sklearn-color-unfitted-level-3);\n",
       "  color: var(--sklearn-color-background);\n",
       "  text-decoration: none;\n",
       "}\n",
       "\n",
       "#sk-container-id-6 a.estimator_doc_link.fitted:hover {\n",
       "  /* fitted */\n",
       "  background-color: var(--sklearn-color-fitted-level-3);\n",
       "}\n",
       "</style><div id=\"sk-container-id-6\" class=\"sk-top-container\"><div class=\"sk-text-repr-fallback\"><pre>AgglomerativeClustering(linkage=&#x27;average&#x27;, n_clusters=6)</pre><b>In a Jupyter environment, please rerun this cell to show the HTML representation or trust the notebook. <br />On GitHub, the HTML representation is unable to render, please try loading this page with nbviewer.org.</b></div><div class=\"sk-container\" hidden><div class=\"sk-item\"><div class=\"sk-estimator fitted sk-toggleable\"><input class=\"sk-toggleable__control sk-hidden--visually\" id=\"sk-estimator-id-6\" type=\"checkbox\" checked><label for=\"sk-estimator-id-6\" class=\"sk-toggleable__label fitted sk-toggleable__label-arrow fitted\">&nbsp;&nbsp;AgglomerativeClustering<a class=\"sk-estimator-doc-link fitted\" rel=\"noreferrer\" target=\"_blank\" href=\"https://scikit-learn.org/1.5/modules/generated/sklearn.cluster.AgglomerativeClustering.html\">?<span>Documentation for AgglomerativeClustering</span></a><span class=\"sk-estimator-doc-link fitted\">i<span>Fitted</span></span></label><div class=\"sk-toggleable__content fitted\"><pre>AgglomerativeClustering(linkage=&#x27;average&#x27;, n_clusters=6)</pre></div> </div></div></div></div>"
      ],
      "text/plain": [
       "AgglomerativeClustering(linkage='average', n_clusters=6)"
      ]
     },
     "execution_count": 131,
     "metadata": {},
     "output_type": "execute_result"
    }
   ],
   "source": [
    "model=AgglomerativeClustering(n_clusters=6, linkage = 'average')\n",
    "model.fit(df)"
   ]
  },
  {
   "cell_type": "code",
   "execution_count": 145,
   "id": "f822206e-7c1a-4dd2-b50a-3663236041ec",
   "metadata": {},
   "outputs": [],
   "source": [
    "import itertools\n",
    "\n",
    "def label_permute_compare(yt,yp,n=6):\n",
    "    true_labels = yt.unique().tolist()\n",
    "    accs = {}\n",
    "    labels = itertools.permutations(range(n))\n",
    "    \n",
    "    for label in labels:\n",
    "        y = [label[true_labels.index(lab)] for lab in yt]\n",
    "        acc = accuracy_score(y,yp)\n",
    "        accs[acc] = label\n",
    "    max_acc = max(accs.keys())\n",
    "    max_keys = accs[max_acc]\n",
    "    \n",
    "    return max_keys, max_acc"
   ]
  },
  {
   "cell_type": "code",
   "execution_count": 146,
   "id": "7ab8951a-269d-47ba-9180-3348f3aa88c3",
   "metadata": {},
   "outputs": [
    {
     "name": "stdout",
     "output_type": "stream",
     "text": [
      "(1, 5, 0, 4, 3, 2) 0.33774834437086093\n"
     ]
    }
   ],
   "source": [
    "labelorder, acc_ac = label_permute_compare(labels, model.labels_)\n",
    "print(labelorder, acc_ac)"
   ]
  },
  {
   "cell_type": "code",
   "execution_count": 147,
   "id": "374a9a45-efeb-4c8d-8c10-e45eafff5acd",
   "metadata": {},
   "outputs": [
    {
     "data": {
      "text/plain": [
       "array([[ 0,  0,  0,  0, 30,  0],\n",
       "       [ 0,  0,  0,  0, 41,  0],\n",
       "       [10,  1,  1,  1,  0,  1],\n",
       "       [ 0,  0,  0,  0, 29,  0],\n",
       "       [ 0,  0,  0,  0, 30,  0],\n",
       "       [ 0,  0,  0,  0,  7,  0]])"
      ]
     },
     "execution_count": 147,
     "metadata": {},
     "output_type": "execute_result"
    }
   ],
   "source": [
    "true_labels = labels.unique()\n",
    "yp = model.labels_\n",
    "yp = [true_labels[labelorder[yp[i]]] for i in range(len(yp))]\n",
    "\n",
    "confusion_matrix(labels,yp)"
   ]
  },
  {
   "cell_type": "code",
   "execution_count": 148,
   "id": "a6b5fceb-0035-4ef6-9489-57ce7ba3d07a",
   "metadata": {},
   "outputs": [
    {
     "name": "stdout",
     "output_type": "stream",
     "text": [
      "accuracy: 0.9072847682119205\n",
      "best linkage: ward\n",
      "best_metric: euclidean\n"
     ]
    }
   ],
   "source": [
    "metrics = ['euclidean', 'l1', 'l2', 'manhattan', 'cosine']\n",
    "linkages = ['ward', 'complete', 'average', 'single']\n",
    "best_acc = 0\n",
    "best_model = None\n",
    "best_met = None\n",
    "best_link = None\n",
    "\n",
    "for met in metrics:\n",
    "    for link in linkages:\n",
    "        if link == 'ward' and met != 'euclidean':\n",
    "            continue\n",
    "        model = AgglomerativeClustering(n_clusters=6, metric = met, linkage = link)\n",
    "        model.fit(df)\n",
    "        labelorder, acc = label_permute_compare(labels, model.labels_)\n",
    "        if acc >= best_acc:\n",
    "            best_acc = acc\n",
    "            best_model = model\n",
    "            best_met = met\n",
    "            best_link = link\n",
    "\n",
    "true_labels = labels.unique()\n",
    "yp = best_model.labels_\n",
    "yp = [true_labels[labelorder[yp[i]]] for i in range(len(yp))]\n",
    "\n",
    "print('accuracy:', best_acc)\n",
    "print('best linkage:', best_link)\n",
    "print('best_metric:', best_met)\n",
    "confusion_matrix(labels,yp)\n",
    "acc_tac = best_acc"
   ]
  },
  {
   "cell_type": "markdown",
   "id": "8d3d1431-990e-423b-b209-733fded9a561",
   "metadata": {},
   "source": [
    "#### Even after hyperparameter tuning the agglomerative clustering model is producing an accuracy of 0. This is likely due to the large amount of features with relatively very few data points. We will try KMeans clustering."
   ]
  },
  {
   "cell_type": "code",
   "execution_count": 149,
   "id": "6d313208-21cd-4e9d-ac69-4c575df24840",
   "metadata": {},
   "outputs": [
    {
     "name": "stdout",
     "output_type": "stream",
     "text": [
      "(0, 1, 4, 2, 5, 3) 0.7350993377483444\n"
     ]
    }
   ],
   "source": [
    "kmeans = KMeans(n_clusters = 6)\n",
    "kmeans.fit(df)\n",
    "labelorder, acc_km = label_permute_compare(labels, kmeans.labels_)\n",
    "print(labelorder, acc_km)"
   ]
  },
  {
   "cell_type": "markdown",
   "id": "87411da0-ba83-409a-9cfa-4a09f1037f0e",
   "metadata": {},
   "source": [
    "#### KMeans has a similar problem to agglomerative clustering.\n",
    "#### Next, we will compare these unsupervised approaches to a supervised approach. I will use an SVM model since they can handle data with large feature sets well."
   ]
  },
  {
   "cell_type": "code",
   "execution_count": 161,
   "id": "3c6f2485-145b-4582-b8d3-a1565a29184a",
   "metadata": {},
   "outputs": [
    {
     "name": "stderr",
     "output_type": "stream",
     "text": [
      "/opt/anaconda3/lib/python3.11/site-packages/sklearn/svm/_base.py:1235: ConvergenceWarning: Liblinear failed to converge, increase the number of iterations.\n",
      "  warnings.warn(\n"
     ]
    },
    {
     "name": "stdout",
     "output_type": "stream",
     "text": [
      "Supervised learning accuracy score: 0.9032258064516129\n"
     ]
    },
    {
     "data": {
      "text/plain": [
       "array([[8, 0, 0, 0, 0, 0],\n",
       "       [2, 5, 0, 0, 0, 0],\n",
       "       [0, 0, 3, 0, 0, 0],\n",
       "       [0, 0, 0, 5, 0, 0],\n",
       "       [0, 0, 0, 1, 5, 0],\n",
       "       [0, 0, 0, 0, 0, 2]])"
      ]
     },
     "execution_count": 161,
     "metadata": {},
     "output_type": "execute_result"
    }
   ],
   "source": [
    "svm = LinearSVC(max_iter = 1500)\n",
    "svm_mod = svm.fit(X_train, y_train)\n",
    "svm_score = svm_mod.score(X_test, y_test)\n",
    "svm_pred = svm_mod.predict(X_test)\n",
    "print('Supervised learning accuracy score:', svm_score)\n",
    "confusion_matrix(svm_pred, y_test)"
   ]
  },
  {
   "cell_type": "markdown",
   "id": "1f2f606e-2b5f-4216-ab69-9839915ac365",
   "metadata": {},
   "source": [
    "#### SVM produced easily the best accuracy score of all models tested. "
   ]
  },
  {
   "cell_type": "markdown",
   "id": "2f0df036-2856-4f7c-ba14-add4d6e9766a",
   "metadata": {},
   "source": [
    "## Conclusions"
   ]
  },
  {
   "cell_type": "code",
   "execution_count": 162,
   "id": "e8d65c3f-b63f-488a-96f8-2157010d0238",
   "metadata": {},
   "outputs": [
    {
     "name": "stdout",
     "output_type": "stream",
     "text": [
      "Accuracy of base NMF model: 0.17391304347826086\n",
      "Accuracy of randomized NMF model: 0.6304347826086957\n",
      "Accuracy of tuned NMF model: 0.6774193548387096\n",
      "Accuracy of Agglomerative Clustering Model: 0.33774834437086093\n",
      "Accuracy of tuned Agglomerative Clustering model: 0.9072847682119205\n",
      "Accuracy of KMeans model: 0.7350993377483444\n",
      "Accuracy of Supervised learning SVM model: 0.9032258064516129\n"
     ]
    }
   ],
   "source": [
    "print('Accuracy of base NMF model:', acc_bnmf)\n",
    "print('Accuracy of randomized NMF model:', acc_rnmf)\n",
    "print('Accuracy of tuned NMF model:', acc_tnmf)\n",
    "print('Accuracy of Agglomerative Clustering Model:', acc_ac)\n",
    "print('Accuracy of tuned Agglomerative Clustering model:', acc_tac)\n",
    "print('Accuracy of KMeans model:', acc_km)\n",
    "print('Accuracy of Supervised learning SVM model:', svm_score)"
   ]
  },
  {
   "cell_type": "markdown",
   "id": "70061896-aa10-40f8-89e5-b230deacb4f7",
   "metadata": {},
   "source": [
    "#### Models used for this project include NMF, agglomerative clustering, KMeans clustering, and SVM. The unsupervised learning models struggled with this dataset. There are relatively few rows of data for them to learn from. Hyperparameter tuning helped with this, but some models still struggled. The clustering models especially produced accuracy scores of 0 even after hyperparameter tuning. SVM however was very successful and produced a solid model with a decent accuracy score.  \n",
    "\n",
    "#### The best Unsupervised model was the Agglomerative Clustering model after hyperparameter tuning with an accuracy score of 0.91. The best metric for this was euclidean with ward linkage. The tuned model worked significantly better than the initial model, indicating that the flexibility of this model with the different metric and linkage allowed for improved function. \n",
    "\n",
    "#### NMF didn't work super well with this data, likely because of the small amount of data used for training. The model likely overfit due to the huge amount of features and small amount of data, contributing to failed testing. This model also had the longest run time. Increasing the max_iter parameter increased accuracy scores significantly.\n",
    "\n",
    "#### One reason why the unsupervised models were generally unsuccessful is that the groups were not evenly distributed; some groups had significantly higher numbers of instances than others. This can make it hard for the clustering models to classify some of the groups with fewer instances relative to groups with more instances, skewing the predictive power of the model.\n",
    "\n",
    "#### The SVM model worked very well with this data. SVM is known to work well with high dimensional data that has many features and few instances, so the success of this model with so many features relative to data points makes sense. \n",
    "\n",
    "#### One way this model could be improved is through feature selection. I included all features in these models because selecting features in a systematic way would take a lot of run time and computing power. However, by including all features, I likely allowed overfitting of the models."
   ]
  },
  {
   "cell_type": "code",
   "execution_count": null,
   "id": "443057ed-06da-418a-b522-62bcc2bf0e02",
   "metadata": {},
   "outputs": [],
   "source": []
  }
 ],
 "metadata": {
  "kernelspec": {
   "display_name": "Python 3 (ipykernel)",
   "language": "python",
   "name": "python3"
  },
  "language_info": {
   "codemirror_mode": {
    "name": "ipython",
    "version": 3
   },
   "file_extension": ".py",
   "mimetype": "text/x-python",
   "name": "python",
   "nbconvert_exporter": "python",
   "pygments_lexer": "ipython3",
   "version": "3.11.7"
  }
 },
 "nbformat": 4,
 "nbformat_minor": 5
}
